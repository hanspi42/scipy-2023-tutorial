{
 "cells": [
  {
   "cell_type": "markdown",
   "id": "c82f37ec-d376-410c-9959-7a54001451c6",
   "metadata": {},
   "source": [
    "# SymPy Introductory Tutorial: SciPy 2023\n",
    "\n",
    "- [01-Introduction.ipynb](01-Introduction.ipynb)\n",
    "- [02-Basic-Operations.ipynb](02-Basic-Operations.ipynb)\n",
    "- [03-Simplification.ipynb](03-Simplification.ipynb)"
   ]
  }
 ],
 "metadata": {
  "kernelspec": {
   "display_name": "Python 3 (ipykernel)",
   "language": "python",
   "name": "python3"
  },
  "language_info": {
   "codemirror_mode": {
    "name": "ipython",
    "version": 3
   },
   "file_extension": ".py",
   "mimetype": "text/x-python",
   "name": "python",
   "nbconvert_exporter": "python",
   "pygments_lexer": "ipython3",
   "version": "3.9.15"
  }
 },
 "nbformat": 4,
 "nbformat_minor": 5
}
