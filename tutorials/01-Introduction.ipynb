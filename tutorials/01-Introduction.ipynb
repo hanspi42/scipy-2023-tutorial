{
 "cells": [
  {
   "cell_type": "markdown",
   "id": "2a0b1db3-c176-461d-ac22-69c0c2d76ca6",
   "metadata": {
    "slideshow": {
     "slide_type": ""
    },
    "tags": []
   },
   "source": [
    "# Introduction"
   ]
  },
  {
   "cell_type": "markdown",
   "id": "68a1de1d-a4fb-4620-9cdc-aa453ac77853",
   "metadata": {
    "editable": true,
    "slideshow": {
     "slide_type": ""
    },
    "tags": []
   },
   "source": [
    "## Check your installation"
   ]
  },
  {
   "cell_type": "markdown",
   "id": "6f3fa6eb-2a83-4018-a56d-2f907602dbf7",
   "metadata": {
    "editable": true,
    "slideshow": {
     "slide_type": ""
    },
    "tags": []
   },
   "source": [
    "Before we begin the tutorial, please check your version of Python and SymPy installation.\n",
    "\n",
    "Although most of the scripts used in the tutorial may work with other versions of Python and SymPy,\n",
    "if you have different Python and SymPy versions installed, \n",
    "you may encounter some issues or confusion.\n",
    "So it's best to get things checked first before beginning."
   ]
  },
  {
   "cell_type": "markdown",
   "id": "2c7c629a-72fd-4b32-a4c3-f341ae0dcf19",
   "metadata": {
    "editable": true,
    "slideshow": {
     "slide_type": ""
    },
    "tags": []
   },
   "source": [
    "### Check your Python version is `3.11`"
   ]
  },
  {
   "cell_type": "code",
   "execution_count": 84,
   "id": "2bdd8d42-0e10-4dc6-b072-eda5f5f4eb13",
   "metadata": {
    "editable": true,
    "slideshow": {
     "slide_type": ""
    },
    "tags": []
   },
   "outputs": [
    {
     "data": {
      "text/plain": [
       "'3.11.2 (main, Mar 21 2023, 16:28:24) [GCC 11.3.0]'"
      ]
     },
     "execution_count": 84,
     "metadata": {},
     "output_type": "execute_result"
    }
   ],
   "source": [
    "import sys\n",
    "\n",
    "sys.version"
   ]
  },
  {
   "cell_type": "markdown",
   "id": "f8d04de1-cab4-4e93-8aea-8337e25ab957",
   "metadata": {
    "editable": true,
    "slideshow": {
     "slide_type": ""
    },
    "tags": []
   },
   "source": [
    "### Check your SymPy version is `1.12`"
   ]
  },
  {
   "cell_type": "code",
   "execution_count": 2,
   "id": "af0703cd-0902-4f07-854c-d18a9f1a1f55",
   "metadata": {
    "editable": true,
    "slideshow": {
     "slide_type": ""
    },
    "tags": []
   },
   "outputs": [
    {
     "data": {
      "text/plain": [
       "'1.12'"
      ]
     },
     "execution_count": 2,
     "metadata": {},
     "output_type": "execute_result"
    }
   ],
   "source": [
    "import sympy\n",
    "\n",
    "sympy.__version__"
   ]
  },
  {
   "cell_type": "markdown",
   "id": "f53ea7c0-97df-4e9b-8922-c9241ffa51e1",
   "metadata": {
    "slideshow": {
     "slide_type": ""
    },
    "tags": []
   },
   "source": [
    "## How to import SymPy"
   ]
  },
  {
   "cell_type": "markdown",
   "id": "74baed9e-5b65-4159-b0a6-63c363e698a0",
   "metadata": {
    "editable": true,
    "slideshow": {
     "slide_type": ""
    },
    "tags": []
   },
   "source": [
    "Execute `from sympy import *` to load (almost) every math functions available in SymPy.\n",
    "\n",
    "SymPy is designed to be superset of python standard math library\n",
    "(`import math`) or many other math libraries like `numpy, scipy`.\n",
    "\n",
    "We may even have functions that are not available in other math libraries."
   ]
  },
  {
   "cell_type": "code",
   "execution_count": 2,
   "id": "b6226595-e75a-4759-a541-5b46f8f151d5",
   "metadata": {
    "editable": true,
    "slideshow": {
     "slide_type": ""
    },
    "tags": []
   },
   "outputs": [],
   "source": [
    "from sympy import *"
   ]
  },
  {
   "cell_type": "markdown",
   "id": "2b357c84-685f-4e39-8e22-92c94d7d5e65",
   "metadata": {
    "editable": true,
    "slideshow": {
     "slide_type": ""
    },
    "tags": []
   },
   "source": [
    "Let's try out the sine function from `math, numpy` and `sympy`."
   ]
  },
  {
   "cell_type": "code",
   "execution_count": 23,
   "id": "37ea3f6c-dcc3-4acc-8a55-0f5d87bd5f5a",
   "metadata": {
    "editable": true,
    "slideshow": {
     "slide_type": ""
    },
    "tags": []
   },
   "outputs": [],
   "source": [
    "import math\n",
    "import numpy"
   ]
  },
  {
   "cell_type": "code",
   "execution_count": 31,
   "id": "605102a1-8dd3-4f92-8f8c-3752acc87ab5",
   "metadata": {
    "editable": true,
    "slideshow": {
     "slide_type": ""
    },
    "tags": []
   },
   "outputs": [
    {
     "data": {
      "text/plain": [
       "0.7071067811865475"
      ]
     },
     "execution_count": 31,
     "metadata": {},
     "output_type": "execute_result"
    }
   ],
   "source": [
    "math.sin(math.pi / 4)"
   ]
  },
  {
   "cell_type": "code",
   "execution_count": 32,
   "id": "c4f2e1d7-46f0-4bf1-a5a9-eed8d3b4dd33",
   "metadata": {
    "editable": true,
    "slideshow": {
     "slide_type": ""
    },
    "tags": []
   },
   "outputs": [
    {
     "data": {
      "text/plain": [
       "0.7071067811865475"
      ]
     },
     "execution_count": 32,
     "metadata": {},
     "output_type": "execute_result"
    }
   ],
   "source": [
    "numpy.sin(numpy.pi / 4)"
   ]
  },
  {
   "cell_type": "code",
   "execution_count": 33,
   "id": "0956bd4c-cd7b-445c-b4a0-359b4a4b37eb",
   "metadata": {
    "editable": true,
    "slideshow": {
     "slide_type": ""
    },
    "tags": []
   },
   "outputs": [
    {
     "data": {
      "text/latex": [
       "$\\displaystyle \\frac{\\sqrt{2}}{2}$"
      ],
      "text/plain": [
       "sqrt(2)/2"
      ]
     },
     "execution_count": 33,
     "metadata": {},
     "output_type": "execute_result"
    }
   ],
   "source": [
    "sin(pi / 4)"
   ]
  },
  {
   "cell_type": "markdown",
   "id": "7155302c-a734-42cb-966c-af61b3f39a76",
   "metadata": {
    "editable": true,
    "slideshow": {
     "slide_type": ""
    },
    "tags": []
   },
   "source": [
    "We note that you don't always need star import (`*`), and you can disambiguate the modules by:\n",
    "\n",
    "- Prefixing the module `sympy.`\n",
    "- Selectively import `import sin from sympy`\n",
    "\n",
    "For sake of making your script longer, but can makes your script less ambiguous and better quality in production."
   ]
  },
  {
   "cell_type": "code",
   "execution_count": 34,
   "id": "f11821f1-28b6-4215-ac28-474a71f51b12",
   "metadata": {
    "editable": true,
    "slideshow": {
     "slide_type": ""
    },
    "tags": []
   },
   "outputs": [
    {
     "data": {
      "text/latex": [
       "$\\displaystyle \\frac{\\sqrt{2}}{2}$"
      ],
      "text/plain": [
       "sqrt(2)/2"
      ]
     },
     "execution_count": 34,
     "metadata": {},
     "output_type": "execute_result"
    }
   ],
   "source": [
    "sympy.sin(sympy.pi / 4)"
   ]
  },
  {
   "cell_type": "code",
   "execution_count": 35,
   "id": "9bac398d-d5d5-46c7-a07d-57d5c7d411da",
   "metadata": {
    "editable": true,
    "slideshow": {
     "slide_type": ""
    },
    "tags": []
   },
   "outputs": [
    {
     "data": {
      "text/latex": [
       "$\\displaystyle \\frac{\\sqrt{2}}{2}$"
      ],
      "text/plain": [
       "sqrt(2)/2"
      ]
     },
     "execution_count": 35,
     "metadata": {},
     "output_type": "execute_result"
    }
   ],
   "source": [
    "from sympy import pi, sin\n",
    "\n",
    "sin(pi / 4)"
   ]
  },
  {
   "cell_type": "markdown",
   "id": "f51691fc-b15b-49c3-aa9b-2221f95417f1",
   "metadata": {
    "editable": true,
    "slideshow": {
     "slide_type": ""
    },
    "tags": []
   },
   "source": [
    "## Troubleshooting"
   ]
  },
  {
   "cell_type": "markdown",
   "id": "08a5ec14-9106-49cd-b7b4-37f102550092",
   "metadata": {
    "editable": true,
    "slideshow": {
     "slide_type": ""
    },
    "tags": []
   },
   "source": [
    "### You have overwritten sympy functions"
   ]
  },
  {
   "cell_type": "markdown",
   "id": "d91d553f-fa43-46e2-a773-8c67ab9e589f",
   "metadata": {
    "editable": true,
    "slideshow": {
     "slide_type": ""
    },
    "tags": []
   },
   "source": [
    "If you accidently define up sympy builtin constants, functions to something else, you can get different result."
   ]
  },
  {
   "cell_type": "markdown",
   "id": "bf367b90-0cf6-42d7-95fa-e4035e207941",
   "metadata": {
    "slideshow": {
     "slide_type": ""
    },
    "tags": []
   },
   "source": [
    "For example, if you accidentally set `pi` as variable:"
   ]
  },
  {
   "cell_type": "code",
   "execution_count": 48,
   "id": "4efbe596-0e4f-4f2b-a701-8c99d4ef3f49",
   "metadata": {
    "editable": true,
    "slideshow": {
     "slide_type": ""
    },
    "tags": []
   },
   "outputs": [
    {
     "data": {
      "text/latex": [
       "$\\displaystyle 0.247403959254523$"
      ],
      "text/plain": [
       "0.247403959254523"
      ]
     },
     "execution_count": 48,
     "metadata": {},
     "output_type": "execute_result"
    }
   ],
   "source": [
    "pi = 1\n",
    "sin(pi / 4)"
   ]
  },
  {
   "cell_type": "markdown",
   "id": "bf75c10d-547e-47d0-971a-f9337b2ed4d6",
   "metadata": {
    "slideshow": {
     "slide_type": ""
    },
    "tags": []
   },
   "source": [
    "Or if you import `pi` from other library"
   ]
  },
  {
   "cell_type": "code",
   "execution_count": 49,
   "id": "321a076d-0596-4c2e-95fa-5ca46ff23e61",
   "metadata": {
    "editable": true,
    "slideshow": {
     "slide_type": ""
    },
    "tags": []
   },
   "outputs": [
    {
     "data": {
      "text/latex": [
       "$\\displaystyle 0.707106781186547$"
      ],
      "text/plain": [
       "0.707106781186547"
      ]
     },
     "execution_count": 49,
     "metadata": {},
     "output_type": "execute_result"
    }
   ],
   "source": [
    "from math import pi\n",
    "\n",
    "sin(pi / 4)"
   ]
  },
  {
   "cell_type": "markdown",
   "id": "6c8629ca-12fe-44f2-99d6-b6d76db89ead",
   "metadata": {
    "slideshow": {
     "slide_type": ""
    },
    "tags": []
   },
   "source": [
    "To resolve these problems, try to prefix your cell with `from sympy import *` every time before practicing your exercise."
   ]
  },
  {
   "cell_type": "code",
   "execution_count": 56,
   "id": "1db61239-54eb-4025-8c4b-96b4fec432dc",
   "metadata": {
    "editable": true,
    "slideshow": {
     "slide_type": ""
    },
    "tags": []
   },
   "outputs": [
    {
     "data": {
      "text/latex": [
       "$\\displaystyle \\frac{\\sqrt{2}}{2}$"
      ],
      "text/plain": [
       "sqrt(2)/2"
      ]
     },
     "execution_count": 56,
     "metadata": {},
     "output_type": "execute_result"
    }
   ],
   "source": [
    "from sympy import *\n",
    "\n",
    "sin(pi / 4)"
   ]
  },
  {
   "cell_type": "markdown",
   "id": "eacab41a-a605-4945-9454-8815cce422d7",
   "metadata": {
    "slideshow": {
     "slide_type": ""
    },
    "tags": []
   },
   "source": [
    "### My notebook stops responding"
   ]
  },
  {
   "cell_type": "markdown",
   "id": "98b988d8-0587-4dab-b86d-002befd7e91d",
   "metadata": {
    "slideshow": {
     "slide_type": ""
    },
    "tags": []
   },
   "source": [
    "If your notebook doesn't terminate the computation, try:\n",
    "\n",
    "    Kernel -> Interrupt Kernel"
   ]
  },
  {
   "cell_type": "markdown",
   "id": "48f92b4e-5e41-4b35-b7fc-5091e4d0fd2a",
   "metadata": {
    "editable": true,
    "slideshow": {
     "slide_type": ""
    },
    "tags": []
   },
   "source": [
    "And for the cases where you are stuck, try:\n",
    "\n",
    "    Kernel -> Restart Kernel and Clear Outputs of All Cells"
   ]
  },
  {
   "cell_type": "markdown",
   "id": "e5a6c4a0-2d22-46f9-af55-c132a057f882",
   "metadata": {
    "editable": true,
    "slideshow": {
     "slide_type": ""
    },
    "tags": []
   },
   "source": [
    "## Getting help for SymPy"
   ]
  },
  {
   "cell_type": "markdown",
   "id": "c1c9c836-f5d7-46ea-97a9-be14c1640900",
   "metadata": {
    "editable": true,
    "slideshow": {
     "slide_type": ""
    },
    "tags": []
   },
   "source": [
    "The functions `dir, help` is helpful for investigating through sympy modules, functions."
   ]
  },
  {
   "cell_type": "markdown",
   "id": "39a523f0-e504-488c-9ae9-74dc6f56d202",
   "metadata": {
    "editable": true,
    "slideshow": {
     "slide_type": ""
    },
    "tags": []
   },
   "source": [
    "### Try `dir`"
   ]
  },
  {
   "cell_type": "code",
   "execution_count": null,
   "id": "07dd13cc-dad5-4a3a-b0dd-1fbfedbde0d2",
   "metadata": {
    "editable": true,
    "slideshow": {
     "slide_type": ""
    },
    "tags": []
   },
   "outputs": [],
   "source": [
    "dir(sympy)"
   ]
  },
  {
   "cell_type": "markdown",
   "id": "0b47b39d-b8df-4248-9ce7-935a81ccc668",
   "metadata": {
    "editable": true,
    "slideshow": {
     "slide_type": ""
    },
    "tags": []
   },
   "source": [
    "### Try `help`"
   ]
  },
  {
   "cell_type": "code",
   "execution_count": null,
   "id": "94f7d16d-8cfd-440d-99f3-d82bf8be9ac9",
   "metadata": {
    "editable": true,
    "slideshow": {
     "slide_type": ""
    },
    "tags": []
   },
   "outputs": [],
   "source": [
    "help(sin)"
   ]
  },
  {
   "cell_type": "code",
   "execution_count": null,
   "id": "b5723241-fe0f-4d89-b45b-c0a5f29f575e",
   "metadata": {
    "editable": true,
    "slideshow": {
     "slide_type": ""
    },
    "tags": []
   },
   "outputs": [],
   "source": [
    "sin?"
   ]
  },
  {
   "cell_type": "markdown",
   "id": "25a573ae-00bf-4c51-85ba-adbe4f083651",
   "metadata": {
    "editable": true,
    "slideshow": {
     "slide_type": ""
    },
    "tags": []
   },
   "source": [
    "### Browse SymPy documentation"
   ]
  },
  {
   "cell_type": "markdown",
   "id": "bb9af4d9-2243-4707-9b37-bc5b0eacf293",
   "metadata": {
    "editable": true,
    "slideshow": {
     "slide_type": ""
    },
    "tags": []
   },
   "source": [
    "You may also read the SymPy documentation\n",
    "\n",
    "https://docs.sympy.org/latest/index.html\n",
    "\n",
    "for more formatted help."
   ]
  },
  {
   "cell_type": "markdown",
   "id": "70dae286-468d-4f6b-a929-cdd957b563ea",
   "metadata": {
    "editable": true,
    "slideshow": {
     "slide_type": ""
    },
    "tags": []
   },
   "source": [
    "# Symbolic Computation"
   ]
  },
  {
   "cell_type": "markdown",
   "id": "e31ae6c2-c08f-4cd9-95dc-6cbc0b060e18",
   "metadata": {
    "editable": true,
    "slideshow": {
     "slide_type": ""
    },
    "tags": []
   },
   "source": [
    "## Integers"
   ]
  },
  {
   "cell_type": "markdown",
   "id": "c7279349-50e6-4747-93b0-1fb5c6764de7",
   "metadata": {
    "editable": true,
    "slideshow": {
     "slide_type": ""
    },
    "tags": []
   },
   "source": [
    "In many computer languages you may have learned through education (C, JAVA, ...), integers are not infinite and prone to overflow errors.\n",
    "\n",
    "In Python and SymPy, integers are really $\\mathbb{Z}$ and doesn't have problem with overflows, which allows for you to work with very large numbers, especially powers and factorials."
   ]
  },
  {
   "cell_type": "markdown",
   "id": "9e1a5db4-914c-4e13-9993-7218f6da3b0f",
   "metadata": {
    "editable": true,
    "slideshow": {
     "slide_type": ""
    },
    "tags": []
   },
   "source": [
    "### Creating Integers"
   ]
  },
  {
   "cell_type": "markdown",
   "id": "4be225fc-3caa-482e-a9f6-ac9cab144be6",
   "metadata": {
    "editable": true,
    "slideshow": {
     "slide_type": ""
    },
    "tags": []
   },
   "source": [
    "You can create SymPy integer by passing python `int` to `Integer` constructor."
   ]
  },
  {
   "cell_type": "code",
   "execution_count": 58,
   "id": "8fc620c1-954a-4a11-853e-89be4fe7a28a",
   "metadata": {
    "editable": true,
    "slideshow": {
     "slide_type": ""
    },
    "tags": []
   },
   "outputs": [
    {
     "data": {
      "text/latex": [
       "$\\displaystyle 12345$"
      ],
      "text/plain": [
       "12345"
      ]
     },
     "execution_count": 58,
     "metadata": {},
     "output_type": "execute_result"
    }
   ],
   "source": [
    "Integer(12345)"
   ]
  },
  {
   "cell_type": "markdown",
   "id": "e3a612d3-b27f-4940-926a-97e6abc89996",
   "metadata": {
    "editable": true,
    "slideshow": {
     "slide_type": ""
    },
    "tags": []
   },
   "source": [
    "### Integer Arithmetic"
   ]
  },
  {
   "cell_type": "markdown",
   "id": "626c8849-9f01-4095-ac0f-dc898a8e348e",
   "metadata": {
    "editable": true,
    "slideshow": {
     "slide_type": ""
    },
    "tags": []
   },
   "source": [
    "You can add, subtract, multiply, power, divide like other integer numbers."
   ]
  },
  {
   "cell_type": "code",
   "execution_count": 63,
   "id": "5b00f2e9-27c7-4274-92e1-abfdfa95ba1e",
   "metadata": {
    "editable": true,
    "slideshow": {
     "slide_type": ""
    },
    "tags": []
   },
   "outputs": [
    {
     "data": {
      "text/latex": [
       "$\\displaystyle 46$"
      ],
      "text/plain": [
       "46"
      ]
     },
     "execution_count": 63,
     "metadata": {},
     "output_type": "execute_result"
    }
   ],
   "source": [
    "Integer(12) + Integer(34)"
   ]
  },
  {
   "cell_type": "code",
   "execution_count": 60,
   "id": "dd91f818-2f68-44b7-a3eb-8219d196d827",
   "metadata": {
    "editable": true,
    "slideshow": {
     "slide_type": ""
    },
    "tags": []
   },
   "outputs": [
    {
     "data": {
      "text/latex": [
       "$\\displaystyle 1267650600228229401496703205376$"
      ],
      "text/plain": [
       "1267650600228229401496703205376"
      ]
     },
     "execution_count": 60,
     "metadata": {},
     "output_type": "execute_result"
    }
   ],
   "source": [
    "Integer(2) ** 100"
   ]
  },
  {
   "cell_type": "markdown",
   "id": "075eaa24-1541-40d2-bb5b-89af2962a3c8",
   "metadata": {
    "editable": true,
    "slideshow": {
     "slide_type": ""
    },
    "tags": []
   },
   "source": [
    "However, you may notice that they are displayed in $\\LaTeX$ and have custom types than python builtin integers.\n",
    "\n",
    "For example, SymPy integers have more richer mathematical functions like `is_prime`."
   ]
  },
  {
   "cell_type": "code",
   "execution_count": 72,
   "id": "646f4098-6ff5-46c3-ba74-7781911eed70",
   "metadata": {
    "editable": true,
    "slideshow": {
     "slide_type": ""
    },
    "tags": []
   },
   "outputs": [
    {
     "data": {
      "text/plain": [
       "True"
      ]
     },
     "execution_count": 72,
     "metadata": {},
     "output_type": "execute_result"
    }
   ],
   "source": [
    "Integer(7).is_prime"
   ]
  },
  {
   "cell_type": "markdown",
   "id": "87d87974-21e2-43a7-93fc-37ba10ce991d",
   "metadata": {
    "editable": true,
    "slideshow": {
     "slide_type": ""
    },
    "tags": []
   },
   "source": [
    "### Exact Division"
   ]
  },
  {
   "cell_type": "markdown",
   "id": "9d848fa0-bf38-4e86-b811-210ebcb34d97",
   "metadata": {
    "editable": true,
    "slideshow": {
     "slide_type": ""
    },
    "tags": []
   },
   "source": [
    "You may also notice that the division of integers are exact.\n",
    "\n",
    "The division of integers are more mathematical ($\\mathbb{Q}$) than floats."
   ]
  },
  {
   "cell_type": "code",
   "execution_count": 65,
   "id": "f58fbf99-f9c1-462e-a5cd-aec2dd67ca31",
   "metadata": {
    "editable": true,
    "slideshow": {
     "slide_type": ""
    },
    "tags": []
   },
   "outputs": [
    {
     "data": {
      "text/latex": [
       "$\\displaystyle 3$"
      ],
      "text/plain": [
       "3"
      ]
     },
     "execution_count": 65,
     "metadata": {},
     "output_type": "execute_result"
    }
   ],
   "source": [
    "Integer(6) / Integer(2)"
   ]
  },
  {
   "cell_type": "code",
   "execution_count": 64,
   "id": "be832550-49d8-4538-9023-0fc58ade94f1",
   "metadata": {
    "editable": true,
    "slideshow": {
     "slide_type": ""
    },
    "tags": []
   },
   "outputs": [
    {
     "data": {
      "text/latex": [
       "$\\displaystyle \\frac{2}{3}$"
      ],
      "text/plain": [
       "2/3"
      ]
     },
     "execution_count": 64,
     "metadata": {},
     "output_type": "execute_result"
    }
   ],
   "source": [
    "Integer(2) / Integer(3)"
   ]
  },
  {
   "cell_type": "code",
   "execution_count": 66,
   "id": "b3920701-57f3-44a4-9d04-93e36dcb7f22",
   "metadata": {
    "editable": true,
    "slideshow": {
     "slide_type": ""
    },
    "tags": []
   },
   "outputs": [
    {
     "data": {
      "text/plain": [
       "3.0"
      ]
     },
     "execution_count": 66,
     "metadata": {},
     "output_type": "execute_result"
    }
   ],
   "source": [
    "6 / 2"
   ]
  },
  {
   "cell_type": "code",
   "execution_count": 67,
   "id": "b69eb094-dc17-43d1-ba6b-95fb2843b61d",
   "metadata": {
    "editable": true,
    "slideshow": {
     "slide_type": ""
    },
    "tags": []
   },
   "outputs": [
    {
     "data": {
      "text/plain": [
       "0.6666666666666666"
      ]
     },
     "execution_count": 67,
     "metadata": {},
     "output_type": "execute_result"
    }
   ],
   "source": [
    "2 / 3"
   ]
  },
  {
   "cell_type": "markdown",
   "id": "aff42407-b69c-4f05-bd74-f0d37a12edee",
   "metadata": {
    "editable": true,
    "slideshow": {
     "slide_type": ""
    },
    "tags": []
   },
   "source": [
    "### Number Theory"
   ]
  },
  {
   "cell_type": "markdown",
   "id": "75c0bd72-0d1f-49ad-aaef-9d33bdc8e69c",
   "metadata": {
    "editable": true,
    "slideshow": {
     "slide_type": ""
    },
    "tags": []
   },
   "source": [
    "SymPy also has very rich number theory which can compute \n",
    "\n",
    "- Fibonacci number\n",
    "- Factorials\n",
    "- GCD\n",
    "- Prime factorization\n",
    "- ...\n",
    "\n",
    "which works with very large numbers"
   ]
  },
  {
   "cell_type": "markdown",
   "id": "305e0477-1492-4d1b-9f79-d57881341c3e",
   "metadata": {
    "editable": true,
    "raw_mimetype": "",
    "slideshow": {
     "slide_type": ""
    },
    "tags": []
   },
   "source": [
    "#### Fibonacci Numbers"
   ]
  },
  {
   "cell_type": "code",
   "execution_count": 61,
   "id": "b0087f4e-a21c-4c22-b768-7b84120cd801",
   "metadata": {
    "editable": true,
    "slideshow": {
     "slide_type": ""
    },
    "tags": []
   },
   "outputs": [
    {
     "data": {
      "text/latex": [
       "$\\displaystyle 573147844013817084101$"
      ],
      "text/plain": [
       "573147844013817084101"
      ]
     },
     "execution_count": 61,
     "metadata": {},
     "output_type": "execute_result"
    }
   ],
   "source": [
    "fibonacci(101)"
   ]
  },
  {
   "cell_type": "code",
   "execution_count": 62,
   "id": "526cf0bd-a355-459f-9eb4-a7a920a79c81",
   "metadata": {
    "editable": true,
    "slideshow": {
     "slide_type": ""
    },
    "tags": []
   },
   "outputs": [
    {
     "data": {
      "text/latex": [
       "$\\displaystyle 70330367711422815821835254877183549770181269836358732742604905087154537118196933579742249494562611733487750449241765991088186363265450223647106012053374121273867339111198139373125598767690091902245245323403501$"
      ],
      "text/plain": [
       "70330367711422815821835254877183549770181269836358732742604905087154537118196933579742249494562611733487750449241765991088186363265450223647106012053374121273867339111198139373125598767690091902245245323403501"
      ]
     },
     "execution_count": 62,
     "metadata": {},
     "output_type": "execute_result"
    }
   ],
   "source": [
    "fibonacci(1001)"
   ]
  },
  {
   "cell_type": "markdown",
   "id": "7ab4f831-7bed-42f4-9ba9-ac4b2689405d",
   "metadata": {
    "editable": true,
    "slideshow": {
     "slide_type": ""
    },
    "tags": []
   },
   "source": [
    "#### Prime Factorization"
   ]
  },
  {
   "cell_type": "code",
   "execution_count": null,
   "id": "97ec23e0-7437-4235-98fb-c4e374266a97",
   "metadata": {
    "editable": true,
    "slideshow": {
     "slide_type": ""
    },
    "tags": []
   },
   "outputs": [],
   "source": [
    "factorint(1234567890123456789)"
   ]
  },
  {
   "cell_type": "markdown",
   "id": "16111013-fb7f-476e-9cf4-967667627e01",
   "metadata": {
    "editable": false,
    "slideshow": {
     "slide_type": ""
    },
    "tags": []
   },
   "source": [
    "## Rational Numbers"
   ]
  },
  {
   "cell_type": "markdown",
   "id": "40bbdd9b-3cbb-43a6-9a59-b1cf43cf9a43",
   "metadata": {},
   "source": [
    "### Why floating points are bad?"
   ]
  },
  {
   "cell_type": "markdown",
   "id": "fa4708dc-27c9-4b20-841c-ba18d0c3a323",
   "metadata": {
    "editable": true,
    "slideshow": {
     "slide_type": ""
    },
    "tags": []
   },
   "source": [
    "Why does `0.1 + 0.2` does not equal `0.3` in Python?"
   ]
  },
  {
   "cell_type": "code",
   "execution_count": 42,
   "id": "2bbcc875-c488-4b59-9e36-a0dbea9d0428",
   "metadata": {
    "editable": false,
    "slideshow": {
     "slide_type": ""
    },
    "tags": []
   },
   "outputs": [
    {
     "data": {
      "text/plain": [
       "False"
      ]
     },
     "execution_count": 42,
     "metadata": {},
     "output_type": "execute_result"
    }
   ],
   "source": [
    "0.1 + 0.2 == 0.3"
   ]
  },
  {
   "cell_type": "markdown",
   "id": "82552901-7f3d-4895-b5de-283b2a12fff4",
   "metadata": {
    "editable": true,
    "slideshow": {
     "slide_type": ""
    },
    "tags": []
   },
   "source": [
    "This is because the numbers are not exactly represented as `0.1, 0.2, 0.3` in computer \n",
    "and tiny error term appears in subtraction."
   ]
  },
  {
   "cell_type": "code",
   "execution_count": 41,
   "id": "b4a4fda1-8f8f-44a7-97ee-d961abed986c",
   "metadata": {
    "editable": false,
    "slideshow": {
     "slide_type": ""
    },
    "tags": []
   },
   "outputs": [
    {
     "data": {
      "text/plain": [
       "5.551115123125783e-17"
      ]
     },
     "execution_count": 41,
     "metadata": {},
     "output_type": "execute_result"
    }
   ],
   "source": [
    "0.1 + 0.2 - 0.3"
   ]
  },
  {
   "cell_type": "markdown",
   "id": "ea1c8e7a-3aa2-4fe0-8449-2344ac89b2f4",
   "metadata": {},
   "source": [
    "The floating point numbers are very inaccurate objects use in mathematics, or in business.\n",
    "\n",
    "(See https://web.ma.utexas.edu/users/arbogast/misc/disasters.html)"
   ]
  },
  {
   "cell_type": "markdown",
   "id": "eeee3336-eac1-4f46-a1e1-840bd77dcc1b",
   "metadata": {
    "editable": true,
    "slideshow": {
     "slide_type": ""
    },
    "tags": []
   },
   "source": [
    "In SymPy, we use the rational numbers because we need mathematically correct objects to reason with fractional quantities and decimals."
   ]
  },
  {
   "cell_type": "markdown",
   "id": "cb3270ca-a334-45cb-a935-a1c7d32586f6",
   "metadata": {},
   "source": [
    "### Creating Rational Numbers"
   ]
  },
  {
   "cell_type": "markdown",
   "id": "8dc1b2b9-ede1-4e37-9334-f0f94905fc81",
   "metadata": {
    "editable": true,
    "slideshow": {
     "slide_type": ""
    },
    "tags": []
   },
   "source": [
    "In SymPy, you can create rational number by using `Rational` constructor"
   ]
  },
  {
   "cell_type": "code",
   "execution_count": 87,
   "id": "29fba910-e831-4368-a4a2-e7489cfca0bb",
   "metadata": {
    "editable": true,
    "slideshow": {
     "slide_type": ""
    },
    "tags": []
   },
   "outputs": [
    {
     "data": {
      "text/latex": [
       "$\\displaystyle \\frac{1}{7}$"
      ],
      "text/plain": [
       "1/7"
      ]
     },
     "execution_count": 87,
     "metadata": {},
     "output_type": "execute_result"
    }
   ],
   "source": [
    "Rational(1, 7)"
   ]
  },
  {
   "cell_type": "markdown",
   "id": "badd65e7-cd07-4c36-b97c-9db0605c40e3",
   "metadata": {
    "editable": true,
    "slideshow": {
     "slide_type": ""
    },
    "tags": []
   },
   "source": [
    "Or by dividing two sympy `Integer`"
   ]
  },
  {
   "cell_type": "code",
   "execution_count": 86,
   "id": "ba7e02ae-b082-4a83-a4c1-c4d215480edc",
   "metadata": {
    "editable": true,
    "slideshow": {
     "slide_type": ""
    },
    "tags": []
   },
   "outputs": [
    {
     "data": {
      "text/latex": [
       "$\\displaystyle \\frac{1}{7}$"
      ],
      "text/plain": [
       "1/7"
      ]
     },
     "execution_count": 86,
     "metadata": {},
     "output_type": "execute_result"
    }
   ],
   "source": [
    "Integer(1) / Integer(7)"
   ]
  },
  {
   "cell_type": "markdown",
   "id": "d8d060c5-b02d-408a-a8f9-ff0138b88395",
   "metadata": {},
   "source": [
    "### Rational Arithmetic"
   ]
  },
  {
   "cell_type": "code",
   "execution_count": 103,
   "id": "44bd1a57-7ee5-4263-9c2f-6e886d215942",
   "metadata": {},
   "outputs": [
    {
     "data": {
      "text/latex": [
       "$\\displaystyle \\frac{3}{7}$"
      ],
      "text/plain": [
       "3/7"
      ]
     },
     "execution_count": 103,
     "metadata": {},
     "output_type": "execute_result"
    }
   ],
   "source": [
    "Rational(1, 3) + Rational(1, 11) + Rational(1, 231)"
   ]
  },
  {
   "cell_type": "markdown",
   "id": "692138aa-c196-4cb6-a876-12fc2681d16a",
   "metadata": {
    "slideshow": {
     "slide_type": ""
    },
    "tags": []
   },
   "source": [
    "## Numeric Evaluation"
   ]
  },
  {
   "cell_type": "markdown",
   "id": "e9b2ea26-aa87-4211-ab52-396b6b1e7cb6",
   "metadata": {},
   "source": [
    "### Arbitrary Precision Float"
   ]
  },
  {
   "cell_type": "markdown",
   "id": "0a442453-bcd5-4dc9-9bfb-f93122856870",
   "metadata": {},
   "source": [
    "In Python or NumPy, floating points restricts the precision.\n",
    "\n",
    "However, in SymPy, we have our own floating point number that allows you to calculate with any precision.\n",
    "\n",
    "In SymPy, floating points can be created by `Float(n, prec)` where `n` is a string that represents decimal or fraction, and `prec` is the precision."
   ]
  },
  {
   "cell_type": "code",
   "execution_count": 14,
   "id": "f5dbcec4-d459-4246-a516-eaf02e940c12",
   "metadata": {},
   "outputs": [
    {
     "data": {
      "text/latex": [
       "$\\displaystyle 0.1$"
      ],
      "text/plain": [
       "0.1000000000"
      ]
     },
     "execution_count": 14,
     "metadata": {},
     "output_type": "execute_result"
    }
   ],
   "source": [
    "Float('0.1', 10)"
   ]
  },
  {
   "cell_type": "markdown",
   "id": "a722d35e-12e2-46b9-8f3d-dfeeaa701172",
   "metadata": {},
   "source": [
    "We note that you should not accidently create floats from Python floats.\n",
    "\n",
    "If begin from python numbers, python parses the number to a more inaccurate version and you may get unexpected result."
   ]
  },
  {
   "cell_type": "code",
   "execution_count": 15,
   "id": "871a1404-1194-4508-98a6-b111c4feeda4",
   "metadata": {},
   "outputs": [
    {
     "data": {
      "text/plain": [
       "False"
      ]
     },
     "execution_count": 15,
     "metadata": {},
     "output_type": "execute_result"
    }
   ],
   "source": [
    "Float(0.1, 20) == Float('0.1', 20)"
   ]
  },
  {
   "cell_type": "markdown",
   "id": "ad032058-ac7a-4019-8277-42d3b7a18fdb",
   "metadata": {},
   "source": [
    "Getting decimal representation of rational numbers in any digits"
   ]
  },
  {
   "cell_type": "code",
   "execution_count": 16,
   "id": "1898cd56-5788-469b-b4e2-b51865709ae6",
   "metadata": {},
   "outputs": [
    {
     "data": {
      "text/latex": [
       "$\\displaystyle 0.1428571429$"
      ],
      "text/plain": [
       "0.1428571429"
      ]
     },
     "execution_count": 16,
     "metadata": {},
     "output_type": "execute_result"
    }
   ],
   "source": [
    "Float('1/7', 10)"
   ]
  },
  {
   "cell_type": "code",
   "execution_count": 17,
   "id": "0c21ccdf-0821-4680-88eb-38ddd355eb73",
   "metadata": {},
   "outputs": [
    {
     "data": {
      "text/latex": [
       "$\\displaystyle 0.14285714285714285714$"
      ],
      "text/plain": [
       "0.14285714285714285714"
      ]
     },
     "execution_count": 17,
     "metadata": {},
     "output_type": "execute_result"
    }
   ],
   "source": [
    "Float('1/7', 20)"
   ]
  },
  {
   "cell_type": "markdown",
   "id": "f50436ee-48e0-4c61-b2eb-3ce7fb6ca944",
   "metadata": {},
   "source": [
    "### Evaluating $\\pi$"
   ]
  },
  {
   "cell_type": "markdown",
   "id": "22244428-5b3d-4053-a2fc-152d20f8ca3a",
   "metadata": {},
   "source": [
    "In Python math library, you can only get 17 digits of $\\pi$"
   ]
  },
  {
   "cell_type": "code",
   "execution_count": 108,
   "id": "0ef6e4a3-f51f-4689-bc7e-499fa32e9b30",
   "metadata": {},
   "outputs": [
    {
     "data": {
      "text/plain": [
       "3.141592653589793"
      ]
     },
     "execution_count": 108,
     "metadata": {},
     "output_type": "execute_result"
    }
   ],
   "source": [
    "import math\n",
    "\n",
    "math.pi"
   ]
  },
  {
   "cell_type": "markdown",
   "id": "e0b4ba68-da29-47ce-9f4e-8d79ed5528f2",
   "metadata": {},
   "source": [
    "How do you get 100 digits of $\\pi$? or even 1000 digits?"
   ]
  },
  {
   "cell_type": "code",
   "execution_count": 106,
   "id": "aec7596a-d640-4d85-a015-198acc491c94",
   "metadata": {},
   "outputs": [
    {
     "data": {
      "text/latex": [
       "$\\displaystyle 3.141592653589793238462643383279502884197169399375105820974944592307816406286208998628034825342117068$"
      ],
      "text/plain": [
       "3.141592653589793238462643383279502884197169399375105820974944592307816406286208998628034825342117068"
      ]
     },
     "execution_count": 106,
     "metadata": {},
     "output_type": "execute_result"
    }
   ],
   "source": [
    "pi.evalf(100)"
   ]
  },
  {
   "cell_type": "markdown",
   "id": "1cfb5055-1860-4a24-b145-66dc4c35a255",
   "metadata": {},
   "source": [
    "### Exercise: Expand the decimals"
   ]
  },
  {
   "cell_type": "code",
   "execution_count": 168,
   "id": "b742c210-d7c2-40f9-b4c4-ceed754ac6ec",
   "metadata": {},
   "outputs": [
    {
     "data": {
      "text/latex": [
       "$\\displaystyle 0.01010203051$"
      ],
      "text/plain": [
       "0.01010203051"
      ]
     },
     "metadata": {},
     "output_type": "display_data"
    },
    {
     "data": {
      "text/latex": [
       "$\\displaystyle 0.010102030508132134559$"
      ],
      "text/plain": [
       "0.010102030508132134559"
      ]
     },
     "metadata": {},
     "output_type": "display_data"
    },
    {
     "data": {
      "text/latex": [
       "$\\displaystyle 0.01010203050813213455904636832$"
      ],
      "text/plain": [
       "0.0101020305081321345590463683200"
      ]
     },
     "metadata": {},
     "output_type": "display_data"
    },
    {
     "data": {
      "text/latex": [
       "$\\displaystyle 0.01010203050813213455904636832003232649763$"
      ],
      "text/plain": [
       "0.01010203050813213455904636832003232649763"
      ]
     },
     "metadata": {},
     "output_type": "display_data"
    }
   ],
   "source": [
    "for prec in (10, 20, 30, 40):\n",
    "    display(Rational(100, 9899).evalf(prec))"
   ]
  },
  {
   "cell_type": "code",
   "execution_count": 166,
   "id": "c20d2cd7-5b45-4b9a-9f11-b1918c0afaee",
   "metadata": {},
   "outputs": [
    {
     "data": {
      "text/latex": [
       "$\\displaystyle 0.1020304051$"
      ],
      "text/plain": [
       "0.1020304051"
      ]
     },
     "metadata": {},
     "output_type": "display_data"
    },
    {
     "data": {
      "text/latex": [
       "$\\displaystyle 0.10203040506070809101$"
      ],
      "text/plain": [
       "0.10203040506070809101"
      ]
     },
     "metadata": {},
     "output_type": "display_data"
    },
    {
     "data": {
      "text/latex": [
       "$\\displaystyle 0.102030405060708091011121314152$"
      ],
      "text/plain": [
       "0.102030405060708091011121314152"
      ]
     },
     "metadata": {},
     "output_type": "display_data"
    },
    {
     "data": {
      "text/latex": [
       "$\\displaystyle 0.1020304050607080910111213141516171819202$"
      ],
      "text/plain": [
       "0.1020304050607080910111213141516171819202"
      ]
     },
     "metadata": {},
     "output_type": "display_data"
    },
    {
     "data": {
      "text/latex": [
       "$\\displaystyle 0.10203040506070809101112131415161718192021222324253$"
      ],
      "text/plain": [
       "0.10203040506070809101112131415161718192021222324253"
      ]
     },
     "metadata": {},
     "output_type": "display_data"
    }
   ],
   "source": [
    "for prec in (10, 20, 30, 40, 50):\n",
    "    display(Rational(1000, 9801).evalf(prec))"
   ]
  },
  {
   "cell_type": "markdown",
   "id": "81816e53-0494-4e16-b0da-4e9f13b6edbf",
   "metadata": {},
   "source": [
    "### Exact Irrational Numbers"
   ]
  },
  {
   "cell_type": "markdown",
   "id": "1bd6e94d-6489-4de9-8a9c-a83d426aff10",
   "metadata": {},
   "source": [
    "Unless asked for numeric evaluation, SymPy tries to keep the formula as mathematically precise as possible.\n",
    "\n",
    "For example, square roots and logarithms are irrational, and if you start to express it into some number, \n",
    "you lose some information how the number come from.\n",
    "\n",
    "For example, take an example of a golden ratio"
   ]
  },
  {
   "cell_type": "code",
   "execution_count": 215,
   "id": "35644434-ec12-488f-98a2-afe7965ca9d4",
   "metadata": {},
   "outputs": [],
   "source": [
    "expr = (1 + sqrt(5)) / 2"
   ]
  },
  {
   "cell_type": "code",
   "execution_count": 216,
   "id": "c4e1f263-e0d8-46da-96fa-f3cf26b6af90",
   "metadata": {},
   "outputs": [
    {
     "data": {
      "text/latex": [
       "$\\displaystyle \\frac{1}{2} + \\frac{\\sqrt{5}}{2}$"
      ],
      "text/plain": [
       "1/2 + sqrt(5)/2"
      ]
     },
     "execution_count": 216,
     "metadata": {},
     "output_type": "execute_result"
    }
   ],
   "source": [
    "expr"
   ]
  },
  {
   "cell_type": "markdown",
   "id": "fc8506f0-d0e7-4c55-822f-795d5367cbba",
   "metadata": {},
   "source": [
    "If you evaluate it first to number"
   ]
  },
  {
   "cell_type": "code",
   "execution_count": 217,
   "id": "1cfb6f03-44f6-4f72-b030-35101807b5cf",
   "metadata": {},
   "outputs": [
    {
     "data": {
      "text/latex": [
       "$\\displaystyle 1.61803398874989$"
      ],
      "text/plain": [
       "1.61803398874989"
      ]
     },
     "execution_count": 217,
     "metadata": {},
     "output_type": "execute_result"
    }
   ],
   "source": [
    "expr.evalf()"
   ]
  },
  {
   "cell_type": "markdown",
   "id": "b5a92c53-b1a9-46a6-87a6-0abcf12fd103",
   "metadata": {},
   "source": [
    "Now given that number, can you guess the original number back?\n",
    "\n",
    "It is not possible because there can be so many plausible guesses, like below."
   ]
  },
  {
   "cell_type": "code",
   "execution_count": 238,
   "id": "bba3b66c-f7b8-4216-b20e-3af1af903b3f",
   "metadata": {},
   "outputs": [
    {
     "data": {
      "text/latex": [
       "$\\displaystyle 1.61904761904762$"
      ],
      "text/plain": [
       "1.61904761904762"
      ]
     },
     "metadata": {},
     "output_type": "display_data"
    },
    {
     "data": {
      "text/latex": [
       "$\\displaystyle 1.61805555555556$"
      ],
      "text/plain": [
       "1.61805555555556"
      ]
     },
     "metadata": {},
     "output_type": "display_data"
    },
    {
     "data": {
      "text/latex": [
       "$\\displaystyle 1.61803713527851$"
      ],
      "text/plain": [
       "1.61803713527851"
      ]
     },
     "metadata": {},
     "output_type": "display_data"
    }
   ],
   "source": [
    "display(Rational(34, 21).evalf())\n",
    "display(Rational(233, 144).evalf())\n",
    "display(Rational(610, 377).evalf())"
   ]
  },
  {
   "cell_type": "markdown",
   "id": "ae2806e6-ebc0-4ce0-ada4-2e8f38b5dfed",
   "metadata": {},
   "source": [
    "This example shows that sympy numbers satisfies the mathematical identities exactly,\n",
    "while `math` library always has precision issues."
   ]
  },
  {
   "cell_type": "code",
   "execution_count": 193,
   "id": "279da388-cefa-4ef8-ba75-46bb5ad3330b",
   "metadata": {},
   "outputs": [
    {
     "data": {
      "text/latex": [
       "$\\displaystyle 0$"
      ],
      "text/plain": [
       "0"
      ]
     },
     "execution_count": 193,
     "metadata": {},
     "output_type": "execute_result"
    }
   ],
   "source": [
    "sqrt(2) ** 2 - 2"
   ]
  },
  {
   "cell_type": "code",
   "execution_count": 195,
   "id": "0e56172a-9475-4028-9b16-15b98f936cd8",
   "metadata": {},
   "outputs": [
    {
     "data": {
      "text/plain": [
       "4.440892098500626e-16"
      ]
     },
     "execution_count": 195,
     "metadata": {},
     "output_type": "execute_result"
    }
   ],
   "source": [
    "math.sqrt(2) ** 2 - 2"
   ]
  },
  {
   "cell_type": "markdown",
   "id": "ad90b2e7-83c5-488c-b3ef-20af81f37a6d",
   "metadata": {},
   "source": [
    "The math library or numpy library is insufficient to use in actual mathematics, than numeric analysis.\n",
    "\n",
    "So if you actually want to do math, SymPy is the only option."
   ]
  },
  {
   "cell_type": "markdown",
   "id": "903cee62-cf9f-4a00-8c25-6a717823eae5",
   "metadata": {},
   "source": [
    "Every SymPy functions, can be used to construct arbitrary mathematical constant that can be generated by mathematical formula."
   ]
  },
  {
   "cell_type": "code",
   "execution_count": 19,
   "id": "cdaa7aca-a9a4-4474-81a7-4f8e76d4caa4",
   "metadata": {},
   "outputs": [
    {
     "data": {
      "text/latex": [
       "$\\displaystyle \\sin{\\left(1 \\right)}$"
      ],
      "text/plain": [
       "sin(1)"
      ]
     },
     "execution_count": 19,
     "metadata": {},
     "output_type": "execute_result"
    }
   ],
   "source": [
    "sin(1)"
   ]
  },
  {
   "cell_type": "markdown",
   "id": "ca4bf1ed-4be5-4d9d-8af9-75b41d132025",
   "metadata": {},
   "source": [
    "For example, Apery's constant (https://en.wikipedia.org/wiki/Ap%C3%A9ry%27s_constant) is not available in standard math library. \n",
    "\n",
    "But if you need it, you can build it your own by using sympy functions."
   ]
  },
  {
   "cell_type": "code",
   "execution_count": 21,
   "id": "8eca93d1-91c2-4124-a861-2549b34cda57",
   "metadata": {},
   "outputs": [
    {
     "data": {
      "text/latex": [
       "$\\displaystyle 1.20205690315959$"
      ],
      "text/plain": [
       "1.20205690315959"
      ]
     },
     "execution_count": 21,
     "metadata": {},
     "output_type": "execute_result"
    }
   ],
   "source": [
    "zeta(3).evalf()"
   ]
  },
  {
   "cell_type": "markdown",
   "id": "9c304abb-5e7f-4610-9348-e202eca71fa8",
   "metadata": {
    "editable": true,
    "slideshow": {
     "slide_type": ""
    },
    "tags": []
   },
   "source": [
    "## Symbols"
   ]
  },
  {
   "cell_type": "markdown",
   "id": "beab8d6f-cdcb-4e04-a4ef-a8dfef1a021e",
   "metadata": {},
   "source": [
    "Symbols are mathematical variables that can be used to create mathematical formula and solve mathematical problems."
   ]
  },
  {
   "cell_type": "markdown",
   "id": "54e57b76-beeb-4054-a488-421b092f3772",
   "metadata": {},
   "source": [
    "### Creating Symbols"
   ]
  },
  {
   "cell_type": "markdown",
   "id": "93cbcbfc-65b8-4d61-97c6-c6dbb58be084",
   "metadata": {},
   "source": [
    "#### Creating a Single Symbol"
   ]
  },
  {
   "cell_type": "markdown",
   "id": "7588cfa2-e4f0-4d2d-960f-30e5c3068874",
   "metadata": {},
   "source": [
    "In order to create a symbol, use `Symbol` constructor with string."
   ]
  },
  {
   "cell_type": "code",
   "execution_count": 177,
   "id": "f7d5cd19-9385-40d8-848a-0038d44fbbb4",
   "metadata": {},
   "outputs": [],
   "source": [
    "x = Symbol('x')\n",
    "y = Symbol('y')"
   ]
  },
  {
   "cell_type": "markdown",
   "id": "9992a637-2751-480a-98d2-0ff405696869",
   "metadata": {},
   "source": [
    "#### Creating Multiple Symbols"
   ]
  },
  {
   "cell_type": "markdown",
   "id": "7c869d8f-4608-489c-9b47-1375d91f762f",
   "metadata": {},
   "source": [
    "Use `symbols` constructor with strings separated by spacing if you want to create symbols.\n",
    "\n",
    "`symbols` automatically splits the strings based on the delimitor `' '` and assigns to `Symbol`."
   ]
  },
  {
   "cell_type": "code",
   "execution_count": 176,
   "id": "c9b759ee-94c9-41e3-bf9b-bcd525901451",
   "metadata": {},
   "outputs": [],
   "source": [
    "a, b = symbols('a b')"
   ]
  },
  {
   "cell_type": "markdown",
   "id": "438a4e73-25b4-419f-ab8c-8ed49d7c3077",
   "metadata": {},
   "source": [
    "#### Creating Greek Symbol"
   ]
  },
  {
   "cell_type": "markdown",
   "id": "98d24724-4fa9-4e60-bf67-b38ca4c5d76d",
   "metadata": {},
   "source": [
    "If you want to create symbols with greek letter,\n",
    "you should type in the name of the greek alphabets into `Symbol` constructor.\n",
    "\n",
    "The examples are `alpha`, `beta`, ... and `Alpha`, ... for capital greek letters."
   ]
  },
  {
   "cell_type": "code",
   "execution_count": 191,
   "id": "e1403803-1144-4910-ae7b-354b4fff4be4",
   "metadata": {},
   "outputs": [
    {
     "data": {
      "text/latex": [
       "$\\displaystyle \\lambda$"
      ],
      "text/plain": [
       "lambda"
      ]
     },
     "execution_count": 191,
     "metadata": {},
     "output_type": "execute_result"
    }
   ],
   "source": [
    "Symbol('lambda')"
   ]
  },
  {
   "cell_type": "markdown",
   "id": "229b8f08-539a-4581-acbe-d87e664f9bab",
   "metadata": {},
   "source": [
    "#### Creating Subscripted Symbol"
   ]
  },
  {
   "cell_type": "markdown",
   "id": "2b01ce05-26d2-4188-bf11-ecabf88c5a30",
   "metadata": {},
   "source": [
    "If you have many symbols, it is useful to create symbols with subscripts."
   ]
  },
  {
   "cell_type": "code",
   "execution_count": 188,
   "id": "ae491e18-16a5-48fb-b551-715a64292153",
   "metadata": {},
   "outputs": [
    {
     "data": {
      "text/latex": [
       "$\\displaystyle x_{1}$"
      ],
      "text/plain": [
       "x_1"
      ]
     },
     "execution_count": 188,
     "metadata": {},
     "output_type": "execute_result"
    }
   ],
   "source": [
    "Symbol('x_1')"
   ]
  },
  {
   "cell_type": "code",
   "execution_count": 199,
   "id": "4b63b9d4-5420-49fc-a41f-a47345b7fb0b",
   "metadata": {},
   "outputs": [
    {
     "data": {
      "text/latex": [
       "$\\displaystyle \\gamma_{123}$"
      ],
      "text/plain": [
       "gamma_123"
      ]
     },
     "execution_count": 199,
     "metadata": {},
     "output_type": "execute_result"
    }
   ],
   "source": [
    "Symbol('gamma_123')"
   ]
  },
  {
   "cell_type": "markdown",
   "id": "9f447526-7912-4950-82ee-191b126b5cee",
   "metadata": {},
   "source": [
    "### Creating Mathematical Formula"
   ]
  },
  {
   "cell_type": "markdown",
   "id": "07d0b96c-0ffa-4c4b-89b4-368bd148e133",
   "metadata": {},
   "source": [
    "If you want to create a mathematical formula, you can just start easily by doing arithmetic on symbols or or use SymPy functions on it.\n",
    "\n",
    "The general grammar for building mathematical expression is:\n",
    "\n",
    "- `Symbol, Integer, Rational` is `Expr`\n",
    "- `Expr + Expr` is `Expr`\n",
    "- `Expr - Expr` is `Expr`\n",
    "- `Expr * Expr` is `Expr`\n",
    "- `Expr - Expr` is `Expr`\n",
    "- `Expr ** Expr` is `Expr`\n",
    "- `sin(Expr)` is `Expr`\n",
    "- `sqrt(Expr)` is `Expr`\n",
    "- ... many SymPy functions gives `Expr`\n",
    "\n",
    "We also note that python `int` automatically converts to `Integer` in arithemtic with SymPy expressions, for convenience."
   ]
  },
  {
   "cell_type": "markdown",
   "id": "02824621-4e94-49dc-909a-5536d21be1fd",
   "metadata": {},
   "source": [
    "#### Polynomial"
   ]
  },
  {
   "cell_type": "code",
   "execution_count": 28,
   "id": "6a0565af-abca-4966-820a-c43307637a81",
   "metadata": {},
   "outputs": [
    {
     "data": {
      "text/latex": [
       "$\\displaystyle x^{2} + 2 x + 3$"
      ],
      "text/plain": [
       "x**2 + 2*x + 3"
      ]
     },
     "execution_count": 28,
     "metadata": {},
     "output_type": "execute_result"
    }
   ],
   "source": [
    "x = Symbol('x')\n",
    "\n",
    "x**2 + 2*x + 3"
   ]
  },
  {
   "cell_type": "markdown",
   "id": "4fc564ac-a145-451d-882b-0f2141a6c7e8",
   "metadata": {},
   "source": [
    "#### Area of Triangle"
   ]
  },
  {
   "cell_type": "code",
   "execution_count": 31,
   "id": "4c839f93-49a3-4fd2-b35c-00d674b67aa1",
   "metadata": {},
   "outputs": [
    {
     "data": {
      "text/latex": [
       "$\\displaystyle \\frac{h w}{2}$"
      ],
      "text/plain": [
       "h*w/2"
      ]
     },
     "execution_count": 31,
     "metadata": {},
     "output_type": "execute_result"
    }
   ],
   "source": [
    "w = Symbol('w')\n",
    "h = Symbol('h')\n",
    "\n",
    "Rational(1, 2) * w * h"
   ]
  },
  {
   "cell_type": "code",
   "execution_count": 32,
   "id": "0c26c70d-a9d9-46ec-a0b3-3ac21e5e7c04",
   "metadata": {},
   "outputs": [
    {
     "data": {
      "text/latex": [
       "$\\displaystyle \\frac{h w}{2}$"
      ],
      "text/plain": [
       "h*w/2"
      ]
     },
     "execution_count": 32,
     "metadata": {},
     "output_type": "execute_result"
    }
   ],
   "source": [
    "w * h / 2"
   ]
  },
  {
   "cell_type": "markdown",
   "id": "469d1def-d154-4af2-ab5a-7ed96a763e01",
   "metadata": {},
   "source": [
    "#### Quadratic Formula"
   ]
  },
  {
   "cell_type": "code",
   "execution_count": 242,
   "id": "3428d1ff-7297-4849-9b66-2d1319eb349a",
   "metadata": {},
   "outputs": [
    {
     "data": {
      "text/latex": [
       "$\\displaystyle - \\frac{b}{2} + \\frac{\\sqrt{- 4 a c + b^{2}}}{2}$"
      ],
      "text/plain": [
       "-b/2 + sqrt(-4*a*c + b**2)/2"
      ]
     },
     "execution_count": 242,
     "metadata": {},
     "output_type": "execute_result"
    }
   ],
   "source": [
    "a, b, c = symbols('a b c')\n",
    "\n",
    "(-b + sqrt(b**2 - 4*a*c)) / 2"
   ]
  },
  {
   "cell_type": "code",
   "execution_count": 243,
   "id": "e073857a-b22f-4bd6-b10f-154b13403c1d",
   "metadata": {},
   "outputs": [
    {
     "data": {
      "text/latex": [
       "$\\displaystyle - \\frac{b}{2} - \\frac{\\sqrt{- 4 a c + b^{2}}}{2}$"
      ],
      "text/plain": [
       "-b/2 - sqrt(-4*a*c + b**2)/2"
      ]
     },
     "execution_count": 243,
     "metadata": {},
     "output_type": "execute_result"
    }
   ],
   "source": [
    "(-b - sqrt(b**2 - 4*a*c)) / 2"
   ]
  },
  {
   "cell_type": "markdown",
   "id": "80150b40-98f6-497a-88f0-8e463eceea15",
   "metadata": {},
   "source": [
    "### Python Function vs SymPy Expression"
   ]
  },
  {
   "cell_type": "markdown",
   "id": "93a0d19e-f5c7-45b0-a224-ed670a6e7d12",
   "metadata": {},
   "source": [
    "In Python, without SymPy, you think that you can write reusable mathematical formula like `x**2 + 2*x + 3` as function"
   ]
  },
  {
   "cell_type": "code",
   "execution_count": 40,
   "id": "4cfa1f59-6244-4172-a385-6c1267ef73c2",
   "metadata": {},
   "outputs": [
    {
     "data": {
      "text/plain": [
       "6"
      ]
     },
     "execution_count": 40,
     "metadata": {},
     "output_type": "execute_result"
    }
   ],
   "source": [
    "def func(x):\n",
    "    return x**2 + 2*x + 3\n",
    "func(1)"
   ]
  },
  {
   "cell_type": "markdown",
   "id": "1bd10c35-e05a-47a9-8cf4-dcb298bb435f",
   "metadata": {},
   "source": [
    "What's the difference of it with SymPy expression?"
   ]
  },
  {
   "cell_type": "code",
   "execution_count": 41,
   "id": "ece3176f-989e-481a-b4f8-bd8e9594c649",
   "metadata": {},
   "outputs": [
    {
     "data": {
      "text/latex": [
       "$\\displaystyle x^{2} + 2 x + 3$"
      ],
      "text/plain": [
       "x**2 + 2*x + 3"
      ]
     },
     "execution_count": 41,
     "metadata": {},
     "output_type": "execute_result"
    }
   ],
   "source": [
    "x = Symbol('x')\n",
    "expr = x**2 + 2*x + 3\n",
    "expr"
   ]
  },
  {
   "cell_type": "markdown",
   "id": "eecdb74d-57cc-4cdb-adb7-0fd94edfe521",
   "metadata": {},
   "source": [
    "The critical difference is that in Python, `x**2 + 2*x + 3` only stays as code, and gone when you run it.\n",
    "\n",
    "You can see that it is represented as something like `<function ...>` and you can get nothing about it."
   ]
  },
  {
   "cell_type": "code",
   "execution_count": 44,
   "id": "09061cdf-f03b-4ef9-b111-f4e0cd4c907f",
   "metadata": {},
   "outputs": [
    {
     "data": {
      "text/plain": [
       "<function __main__.func(x)>"
      ]
     },
     "execution_count": 44,
     "metadata": {},
     "output_type": "execute_result"
    }
   ],
   "source": [
    "func"
   ]
  },
  {
   "cell_type": "markdown",
   "id": "812f49f2-6a96-40d7-94bb-7e4cf70a9196",
   "metadata": {},
   "source": [
    "The code doesn't keep any mathematical semantics at all."
   ]
  },
  {
   "cell_type": "code",
   "execution_count": 45,
   "id": "82b0f0cf-e0f6-4cf9-ace3-87353a76ee06",
   "metadata": {},
   "outputs": [
    {
     "name": "stdout",
     "output_type": "stream",
     "text": [
      "  1           0 RESUME                   0\n",
      "\n",
      "  2           2 LOAD_FAST                0 (x)\n",
      "              4 LOAD_CONST               1 (2)\n",
      "              6 BINARY_OP                8 (**)\n",
      "             10 LOAD_CONST               1 (2)\n",
      "             12 LOAD_FAST                0 (x)\n",
      "             14 BINARY_OP                5 (*)\n",
      "             18 BINARY_OP                0 (+)\n",
      "             22 LOAD_CONST               2 (3)\n",
      "             24 BINARY_OP                0 (+)\n",
      "             28 RETURN_VALUE\n"
     ]
    }
   ],
   "source": [
    "from dis import dis\n",
    "\n",
    "dis(func)"
   ]
  },
  {
   "cell_type": "markdown",
   "id": "b4e1dab0-1faf-4420-9557-50f5307d3eca",
   "metadata": {},
   "source": [
    "In Python, evaluating something is direct.\n",
    "\n",
    "However, doing math with the code is very indirect direct and difficult.\n",
    "\n",
    "You always need to do some other math by hand before writing code with `math, numpy`.\n",
    "\n",
    "For example, when you want to compute the derivative with the `func`, you need to do by hand and write a new code"
   ]
  },
  {
   "cell_type": "code",
   "execution_count": 48,
   "id": "2a6d6904-f454-4888-9a5a-e2c4c2d2a0ae",
   "metadata": {},
   "outputs": [
    {
     "data": {
      "text/plain": [
       "4"
      ]
     },
     "execution_count": 48,
     "metadata": {},
     "output_type": "execute_result"
    }
   ],
   "source": [
    "def d_func(x):\n",
    "    return 2*x + 2\n",
    "\n",
    "d_func(1)"
   ]
  },
  {
   "cell_type": "markdown",
   "id": "35060771-0c95-442d-930d-a979ecff53b4",
   "metadata": {},
   "source": [
    "In SymPy, doing the math with the code is easy.\n",
    "\n",
    "However, evaluation becomes a bit indirect.\n",
    "\n",
    "To evaluate with SymPy, you should use `subs`"
   ]
  },
  {
   "cell_type": "code",
   "execution_count": 47,
   "id": "ed2594ad-9d6e-4e4c-ad04-700405b82982",
   "metadata": {},
   "outputs": [
    {
     "data": {
      "text/latex": [
       "$\\displaystyle 6$"
      ],
      "text/plain": [
       "6"
      ]
     },
     "execution_count": 47,
     "metadata": {},
     "output_type": "execute_result"
    }
   ],
   "source": [
    "expr.subs(x, 1)"
   ]
  },
  {
   "cell_type": "markdown",
   "id": "ffa9ac13-2b03-41e2-9871-434d1274a5ca",
   "metadata": {},
   "source": [
    "However, if you want to do the derivative, you don't need to do the math by hand."
   ]
  },
  {
   "cell_type": "code",
   "execution_count": 50,
   "id": "7b9e8859-2467-4a4f-bafb-cd114e0d8395",
   "metadata": {},
   "outputs": [
    {
     "data": {
      "text/latex": [
       "$\\displaystyle 2 x + 2$"
      ],
      "text/plain": [
       "2*x + 2"
      ]
     },
     "execution_count": 50,
     "metadata": {},
     "output_type": "execute_result"
    }
   ],
   "source": [
    "d_expr = expr.diff(x)\n",
    "d_expr"
   ]
  },
  {
   "cell_type": "code",
   "execution_count": 51,
   "id": "5b43b843-47a0-4824-a09e-fcfea2a4cae6",
   "metadata": {},
   "outputs": [
    {
     "data": {
      "text/latex": [
       "$\\displaystyle 4$"
      ],
      "text/plain": [
       "4"
      ]
     },
     "execution_count": 51,
     "metadata": {},
     "output_type": "execute_result"
    }
   ],
   "source": [
    "d_expr.subs(x, 1)"
   ]
  },
  {
   "cell_type": "markdown",
   "id": "e1a9050d-86f2-4ea5-beac-a0e5e2a82b87",
   "metadata": {},
   "source": [
    "### Function Symbols"
   ]
  },
  {
   "cell_type": "code",
   "execution_count": 244,
   "id": "08d101a7-2c13-45cd-8400-52cc5ace64e8",
   "metadata": {},
   "outputs": [],
   "source": [
    "f = Function('f')\n",
    "g = Function('g')"
   ]
  },
  {
   "cell_type": "markdown",
   "id": "8519f550-b4dc-44ee-9215-a71a3a788032",
   "metadata": {},
   "source": [
    "f(x)"
   ]
  },
  {
   "cell_type": "code",
   "execution_count": 245,
   "id": "64ba8d0d-ca05-452f-9846-8bc82111b34e",
   "metadata": {},
   "outputs": [
    {
     "data": {
      "text/latex": [
       "$\\displaystyle g{\\left(x,y \\right)}$"
      ],
      "text/plain": [
       "g(x, y)"
      ]
     },
     "execution_count": 245,
     "metadata": {},
     "output_type": "execute_result"
    }
   ],
   "source": [
    "g(x, y)"
   ]
  },
  {
   "cell_type": "markdown",
   "id": "9787c739-389a-4d4a-b1dd-79e184c5825e",
   "metadata": {},
   "source": [
    "## Complex Analysis"
   ]
  },
  {
   "cell_type": "markdown",
   "id": "03879675-b466-460b-a940-8cf29009c5ec",
   "metadata": {},
   "source": [
    "# Sympify"
   ]
  },
  {
   "cell_type": "markdown",
   "id": "6af932fd-9139-4c32-8f4e-b8b00c0cf45d",
   "metadata": {},
   "source": [
    "## Parsing"
   ]
  },
  {
   "cell_type": "markdown",
   "id": "8e32ad34-d471-46cc-8036-feb0511d7272",
   "metadata": {},
   "source": [
    "`sympify` can be used to parse text into SymPy expressions.\n",
    "\n",
    "We have learned how to build the mathematical formula by declaring the symbols and building it programmatically.\n",
    "However, you can also build SymPy expressions by parsing from strings."
   ]
  },
  {
   "cell_type": "markdown",
   "id": "6791bd09-fdb3-4774-a9ac-73111522ed68",
   "metadata": {},
   "source": [
    "`sympifiy` automatically does the following:\n",
    "\n",
    "- Converts `^` into python `**` operator.\n",
    "- Parses `sin, cos, ...` into sympy functions.\n",
    "- Finds undefined variables in the code like `x, y` and tries to inject symbols with same name"
   ]
  },
  {
   "cell_type": "code",
   "execution_count": 56,
   "id": "78bd4f7c-7cc8-4255-8d26-1066cc2d3c28",
   "metadata": {},
   "outputs": [
    {
     "data": {
      "text/latex": [
       "$\\displaystyle x^{2} + x + 1$"
      ],
      "text/plain": [
       "x**2 + x + 1"
      ]
     },
     "execution_count": 56,
     "metadata": {},
     "output_type": "execute_result"
    }
   ],
   "source": [
    "sympify('x**2 + x + 1')"
   ]
  },
  {
   "cell_type": "code",
   "execution_count": 70,
   "id": "c9b74f68-59d6-4176-953b-9b9bd80e0958",
   "metadata": {},
   "outputs": [
    {
     "data": {
      "text/latex": [
       "$\\displaystyle \\sin{\\left(x + y \\right)}$"
      ],
      "text/plain": [
       "sin(x + y)"
      ]
     },
     "execution_count": 70,
     "metadata": {},
     "output_type": "execute_result"
    }
   ],
   "source": [
    "sympify('sin(x + y)')"
   ]
  },
  {
   "cell_type": "markdown",
   "id": "274e4a7e-a233-4ff7-b676-49613683bd23",
   "metadata": {},
   "source": [
    "The pros of using parser is that it can work around grammar of Python,\n",
    "which can sometimes be inconveinent for mathematics, such as:\n",
    "\n",
    "- You always need to declare symbols first, and undefined program variables don't become symbols\n",
    "- `^` isn't power\n",
    "\n",
    "However, the drawback of parsing is that you need to pass the string form of code,\n",
    "and it is indirect and redundant than working with Python itself.\n",
    "\n",
    "(SymPy could have better formalized the grammar of sympify such that `e^sin(x), 2*beta, ...` works correctly)"
   ]
  },
  {
   "cell_type": "markdown",
   "id": "c1b23555-0ff0-497d-87d0-c7870a1f17c4",
   "metadata": {},
   "source": [
    "And even though parsing allows you to create symbols without declaring first,\n",
    "you would anyway need symbols later for computing derivatives, solving, ...\n",
    "\n",
    "For that cases, you have to parse strings again for symbols:"
   ]
  },
  {
   "cell_type": "code",
   "execution_count": 71,
   "id": "597ede31-1ceb-4695-b12b-d1d499d71d91",
   "metadata": {},
   "outputs": [
    {
     "data": {
      "text/latex": [
       "$\\displaystyle \\cos{\\left(x + y \\right)}$"
      ],
      "text/plain": [
       "cos(x + y)"
      ]
     },
     "execution_count": 71,
     "metadata": {},
     "output_type": "execute_result"
    }
   ],
   "source": [
    "sympify('sin(x + y)').diff(sympify('x'))"
   ]
  },
  {
   "cell_type": "markdown",
   "id": "08bfc9de-e511-4b82-9050-418755a263d5",
   "metadata": {},
   "source": [
    "We also have `parse_expr` and `parse_latex` which deals with parsing more in depth."
   ]
  },
  {
   "cell_type": "markdown",
   "id": "3cbeb4cd-14b4-45bb-831d-904713dbc325",
   "metadata": {},
   "source": [
    "## Boxing and Unboxing"
   ]
  },
  {
   "cell_type": "markdown",
   "id": "0580735c-eead-4bca-8976-bddd86fb7336",
   "metadata": {},
   "source": [
    "The other important feature of sympify is that it can convert Python numeric data types into SymPy. (boxing)\n",
    "\n",
    "Boxing and unboxing is conceptually borrowed (JAVA and C#) to inject object-oriented interfaces to ground types (integers, strings).\n",
    "\n",
    "In SymPy, it is used to inject SymPy's object oriented interfaces to python ground types `int, float, str, tuple, set, dict, ...`.\n",
    "\n",
    "(Python already does it such that everything is object, and we are unfortunately doubly doing that.)"
   ]
  },
  {
   "cell_type": "code",
   "execution_count": 87,
   "id": "3c5888d4-c419-41b6-b958-ed8fabbfd5b0",
   "metadata": {},
   "outputs": [
    {
     "data": {
      "text/latex": [
       "$\\displaystyle 123$"
      ],
      "text/plain": [
       "123"
      ]
     },
     "execution_count": 87,
     "metadata": {},
     "output_type": "execute_result"
    }
   ],
   "source": [
    "sympify(123)"
   ]
  },
  {
   "cell_type": "code",
   "execution_count": 88,
   "id": "6c6159c8-2919-4402-a6d6-6543bf2d0b03",
   "metadata": {},
   "outputs": [
    {
     "data": {
      "text/plain": [
       "123"
      ]
     },
     "execution_count": 88,
     "metadata": {},
     "output_type": "execute_result"
    }
   ],
   "source": [
    "int(sympify(123))"
   ]
  },
  {
   "cell_type": "code",
   "execution_count": 82,
   "id": "7a0bd88a-7bb6-4c42-a1f7-ae4bc5d648e0",
   "metadata": {},
   "outputs": [
    {
     "data": {
      "text/latex": [
       "$\\displaystyle 1.23$"
      ],
      "text/plain": [
       "1.23000000000000"
      ]
     },
     "execution_count": 82,
     "metadata": {},
     "output_type": "execute_result"
    }
   ],
   "source": [
    "sympify(1.23)"
   ]
  },
  {
   "cell_type": "code",
   "execution_count": 83,
   "id": "e8e8985f-cfe8-4955-b381-7140e999a1b8",
   "metadata": {},
   "outputs": [
    {
     "data": {
      "text/plain": [
       "1.23"
      ]
     },
     "execution_count": 83,
     "metadata": {},
     "output_type": "execute_result"
    }
   ],
   "source": [
    "float(sympify(1.23))"
   ]
  },
  {
   "cell_type": "code",
   "execution_count": 80,
   "id": "0fef515d-f76e-43ef-88b7-5ac2bcb96fe1",
   "metadata": {},
   "outputs": [
    {
     "data": {
      "text/latex": [
       "$\\displaystyle \\left( 1, \\  2, \\  3\\right)$"
      ],
      "text/plain": [
       "(1, 2, 3)"
      ]
     },
     "execution_count": 80,
     "metadata": {},
     "output_type": "execute_result"
    }
   ],
   "source": [
    "sympify((1, 2, 3))"
   ]
  },
  {
   "cell_type": "code",
   "execution_count": 81,
   "id": "7325a511-97e7-4f4b-96f3-10b6aff36a92",
   "metadata": {},
   "outputs": [
    {
     "data": {
      "text/plain": [
       "(1, 2, 3)"
      ]
     },
     "execution_count": 81,
     "metadata": {},
     "output_type": "execute_result"
    }
   ],
   "source": [
    "tuple(sympify((1, 2, 3)))"
   ]
  },
  {
   "cell_type": "code",
   "execution_count": 84,
   "id": "f69a9eb2-e140-4b17-a4d8-4356e3e815ff",
   "metadata": {},
   "outputs": [
    {
     "data": {
      "text/latex": [
       "$\\displaystyle \\left\\{1, 2, 3\\right\\}$"
      ],
      "text/plain": [
       "{1, 2, 3}"
      ]
     },
     "execution_count": 84,
     "metadata": {},
     "output_type": "execute_result"
    }
   ],
   "source": [
    "sympify({1, 2, 3})"
   ]
  },
  {
   "cell_type": "code",
   "execution_count": 85,
   "id": "aa53c19b-d311-452f-8cc8-d29a381b0f99",
   "metadata": {},
   "outputs": [
    {
     "data": {
      "text/plain": [
       "{1, 2, 3}"
      ]
     },
     "execution_count": 85,
     "metadata": {},
     "output_type": "execute_result"
    }
   ],
   "source": [
    "set(sympify({1, 2, 3}))"
   ]
  },
  {
   "cell_type": "code",
   "execution_count": 92,
   "id": "f639331f-2ebd-4660-9cea-41594c3d9f5f",
   "metadata": {},
   "outputs": [
    {
     "data": {
      "text/latex": [
       "$\\displaystyle \\left[\\begin{matrix}1 & 2\\\\3 & 4\\end{matrix}\\right]$"
      ],
      "text/plain": [
       "[[1, 2], [3, 4]]"
      ]
     },
     "execution_count": 92,
     "metadata": {},
     "output_type": "execute_result"
    }
   ],
   "source": [
    "sympify(numpy.array([[1, 2], [3, 4]]))"
   ]
  },
  {
   "cell_type": "markdown",
   "id": "aeb6d85c-3048-4e04-9cfc-1e39a7cea0dc",
   "metadata": {},
   "source": [
    "SymPy data types have all the rich mathematical interfaces (compute `diff`, compute series, ...),\n",
    "even for simple numbers.\n",
    "\n",
    "However, if you are going to use SymPy objects in other library, \n",
    "you need to convert them back to Python numeric data types for efficiency.\n",
    "\n",
    "(SymPy data types consumes a lot of memory and slow as tradeoff)"
   ]
  },
  {
   "cell_type": "code",
   "execution_count": null,
   "id": "668f8b92-6d24-40de-879c-3b554077a63e",
   "metadata": {},
   "outputs": [],
   "source": []
  }
 ],
 "metadata": {
  "kernelspec": {
   "display_name": "Python 3 (ipykernel)",
   "language": "python",
   "name": "python3"
  },
  "language_info": {
   "codemirror_mode": {
    "name": "ipython",
    "version": 3
   },
   "file_extension": ".py",
   "mimetype": "text/x-python",
   "name": "python",
   "nbconvert_exporter": "python",
   "pygments_lexer": "ipython3",
   "version": "3.11.2"
  }
 },
 "nbformat": 4,
 "nbformat_minor": 5
}
