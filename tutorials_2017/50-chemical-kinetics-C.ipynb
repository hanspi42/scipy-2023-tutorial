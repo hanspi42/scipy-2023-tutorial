{
 "cells": [
  {
   "cell_type": "markdown",
   "metadata": {},
   "source": [
    "In this notebook we will generate C code and use CVode from the sundials suite to integrate the system of differential equations. Sundials is a well established and well tested open-source BSD-licensed library with excellent documentation. [Here is the documentation for CVode](https://computation.llnl.gov/sites/default/files/public/cv_guide.pdf).\n",
    "\n",
    "We will use a thin Cython wrapper which calls the integration routine and returns the solution as a numpy vector and a dictionary, along with information about the integration."
   ]
  },
  {
   "cell_type": "code",
   "execution_count": null,
   "metadata": {
    "collapsed": true
   },
   "outputs": [],
   "source": [
    "import json\n",
    "import numpy as np\n",
    "from scipy2017codegen.odesys import ODEsys\n",
    "from scipy2017codegen.chem import mk_rsys"
   ]
  },
  {
   "cell_type": "markdown",
   "metadata": {},
   "source": [
    "Again, using the `ODEsys` convenience class from notebook \"35\":"
   ]
  },
  {
   "cell_type": "code",
   "execution_count": null,
   "metadata": {
    "collapsed": true
   },
   "outputs": [],
   "source": [
    "watrad_data = json.load(open('../scipy2017codegen/data/radiolysis_300_Gy_s.json'))\n",
    "watrad = mk_rsys(ODEsys, **watrad_data)\n",
    "tout = np.logspace(-6, 3, 200)  # close to one hour of operation\n",
    "c0 = {'H2O': 55.4e3, 'H+': 1e-4, 'OH-': 1e-4}\n",
    "y0 = [c0.get(symb.name, 0) for symb in watrad.y]"
   ]
  },
  {
   "cell_type": "code",
   "execution_count": null,
   "metadata": {
    "collapsed": true
   },
   "outputs": [],
   "source": [
    "%timeit yout, info = watrad.integrate_odeint(tout, y0)"
   ]
  },
  {
   "cell_type": "markdown",
   "metadata": {},
   "source": [
    "that is still the benchmark to beat. Subclassing `ODEsys` to have it render, compile and import the code:"
   ]
  },
  {
   "cell_type": "code",
   "execution_count": null,
   "metadata": {
    "collapsed": true
   },
   "outputs": [],
   "source": [
    "# %load ../scipy2017codegen/odesys_cvode.py\n",
    "import os\n",
    "import sys\n",
    "import uuid\n",
    "import sympy as sym\n",
    "import setuptools\n",
    "import numpy as np\n",
    "import setuptools\n",
    "import pyximport\n",
    "from scipy2017codegen import templates\n",
    "from scipy2017codegen.odesys import ODEsys\n",
    "\n",
    "pyximport.install()\n",
    "\n",
    "kw = {\n",
    "    'sources': [],\n",
    "    'include_dirs': [os.getcwd(), np.get_include()],\n",
    "    'libraries': ['sundials_cvode', 'sundials_nvecserial'],\n",
    "    'library_dirs': [],\n",
    "    'extra_compile_args': [],\n",
    "    'extra_link_args': []\n",
    "}\n",
    "\n",
    "osx = sys.platform.lower() == 'darwin'\n",
    "win = os.name == 'nt'\n",
    "posix = os.name == 'posix'\n",
    "\n",
    "if not win:\n",
    "    kw['libraries'] += ['m']\n",
    "\n",
    "if posix:\n",
    "    kw['libraries'] += ['openblas']\n",
    "\n",
    "\n",
    "class ODEcvode(ODEsys):\n",
    "\n",
    "    default_integrator = 'cvode'\n",
    "\n",
    "    def setup(self):\n",
    "        self.uid = uuid.uuid4().hex[:10]\n",
    "        self.mod_name = 'ode_c_%s' % self.uid\n",
    "        idxs = list(range(len(self.f)))\n",
    "        subs = {s: sym.Symbol('y[%d]' % i) for i, s in enumerate(self.y)}\n",
    "        f_exprs = ['out[%d] = %s;' % (i, sym.ccode(self.f[i].xreplace(subs)))\n",
    "                   for i in idxs]\n",
    "        j_col_defs = ['realtype * const col_%d = DENSE_COL(J, %d);' % (ci, ci)\n",
    "                      for ci in idxs]\n",
    "        j_exprs = ['col_%d[%d] = %s;' % (ci, ri, self.j[ri, ci].xreplace(subs))\n",
    "                   for ci in idxs for ri in idxs if self.j[ri, ci] != 0]\n",
    "        ctx = dict(\n",
    "            func = '\\n    '.join(f_exprs + ['return 0;']),\n",
    "            dense_jac = '\\n    '.join(j_col_defs + j_exprs + ['return 0;']),\n",
    "            band_jac = 'return -1;'\n",
    "        )\n",
    "        open('integrate_serial_%s.c' % self.uid, 'wt').write(templates.sundials['integrate_serial.c'] % ctx)\n",
    "        open('%s.pyx' % self.mod_name, 'wt').write(templates.sundials['_integrate_serial.pyx'] % {'uid': self.uid})\n",
    "        open('%s.pyxbld' % self.mod_name, 'wt').write(templates.pyxbld % kw)\n",
    "        self.mod = __import__(self.mod_name)\n",
    "        self.integrate_odeint = None\n",
    "\n",
    "    def integrate_cvode(self, tout, y0, params=(), rtol=1e-8, atol=1e-8, **kwargs):\n",
    "        return self.mod._integrate(np.asarray(tout, dtype=np.float64),\n",
    "                                   np.asarray(y0, dtype=np.float64),\n",
    "                                   np.atleast_1d(np.asarray(params, dtype=np.float64)),\n",
    "                                   abstol=np.atleast_1d(np.asarray(atol, dtype=np.float64)),\n",
    "                                   reltol=rtol,\n",
    "                                   **kwargs)\n"
   ]
  },
  {
   "cell_type": "code",
   "execution_count": null,
   "metadata": {
    "collapsed": true
   },
   "outputs": [],
   "source": [
    "cvode_sys = mk_rsys(ODEcvode, **watrad_data)"
   ]
  },
  {
   "cell_type": "code",
   "execution_count": null,
   "metadata": {
    "collapsed": true
   },
   "outputs": [],
   "source": [
    "%timeit cvode_sys.integrate(tout, y0)"
   ]
  },
  {
   "cell_type": "markdown",
   "metadata": {},
   "source": [
    "Now we are getting close to optimal speed. There is no interaction with the Python interpreter during integration."
   ]
  },
  {
   "cell_type": "code",
   "execution_count": null,
   "metadata": {
    "collapsed": true
   },
   "outputs": [],
   "source": [
    "import matplotlib.pyplot as plt\n",
    "%matplotlib inline"
   ]
  },
  {
   "cell_type": "markdown",
   "metadata": {},
   "source": [
    "Just to see that everything looks alright:"
   ]
  },
  {
   "cell_type": "code",
   "execution_count": null,
   "metadata": {
    "collapsed": true
   },
   "outputs": [],
   "source": [
    "fig, ax = plt.subplots(1, 1, figsize=(14, 6))\n",
    "cvode_sys.plot_result(tout, *cvode_sys.integrate(tout, y0), ax=ax)\n",
    "ax.set_xscale('log')\n",
    "ax.set_yscale('log')"
   ]
  }
 ],
 "metadata": {
  "kernelspec": {
   "display_name": "Python 3",
   "language": "python",
   "name": "python3"
  },
  "language_info": {
   "codemirror_mode": {
    "name": "ipython",
    "version": 3
   },
   "file_extension": ".py",
   "mimetype": "text/x-python",
   "name": "python",
   "nbconvert_exporter": "python",
   "pygments_lexer": "ipython3",
   "version": "3.6.1"
  }
 },
 "nbformat": 4,
 "nbformat_minor": 2
}
