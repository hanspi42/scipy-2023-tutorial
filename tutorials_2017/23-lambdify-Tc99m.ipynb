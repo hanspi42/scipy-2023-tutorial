{
 "cells": [
  {
   "cell_type": "markdown",
   "metadata": {},
   "source": [
    "## Using lambdify for plotting expressions\n",
    "The syntethic isotope Technetium-99m is used in medical diagnostics ([scintigraphy](https://en.wikipedia.org/wiki/Nuclear_medicine)):\n",
    "$$\n",
    "^{99m}Tc \\overset{\\lambda_1}{\\longrightarrow} \\,^{99}Tc \\overset{\\lambda_2}{\\longrightarrow} \\,^{99}Ru \\\\\n",
    "\\lambda_1 = 3.2\\cdot 10^{-5}\\,s^{-1} \\\\\n",
    "\\lambda_2 = 1.04 \\cdot 10^{-13}\\,s^{-1} \\\\\n",
    "$$\n",
    "SymPy can solve the differential equations describing the amounts versus time analytically.\n",
    "Let's denote the concentrations of each isotope $x(t),\\ y(t)\\ \\&\\ z(t)$ respectively."
   ]
  },
  {
   "cell_type": "code",
   "execution_count": null,
   "metadata": {
    "collapsed": true
   },
   "outputs": [],
   "source": [
    "import sympy as sym\n",
    "sym.init_printing()"
   ]
  },
  {
   "cell_type": "code",
   "execution_count": null,
   "metadata": {
    "collapsed": true
   },
   "outputs": [],
   "source": [
    "symbs = t, l1, l2, x0, y0, z0 = sym.symbols('t lambda_1 lambda_2 x0 y0 z0', real=True, nonnegative=True)\n",
    "funcs = x, y, z = [sym.Function(s)(t) for s in 'xyz']\n",
    "inits = [f.subs(t, 0) for f in funcs]\n",
    "diffs = [f.diff(t) for f in funcs]\n",
    "exprs = -l1*x, l1*x - l2*y, l2*y\n",
    "eqs = [sym.Eq(diff, expr) for diff, expr in zip(diffs, exprs)]\n",
    "eqs"
   ]
  },
  {
   "cell_type": "code",
   "execution_count": null,
   "metadata": {
    "collapsed": true
   },
   "outputs": [],
   "source": [
    "solutions = sym.dsolve(eqs)\n",
    "solutions"
   ]
  },
  {
   "cell_type": "markdown",
   "metadata": {},
   "source": [
    "now we need to determine the integration constants from the intial conditions:"
   ]
  },
  {
   "cell_type": "code",
   "execution_count": null,
   "metadata": {
    "collapsed": true
   },
   "outputs": [],
   "source": [
    "integration_constants = set.union(*[sol.free_symbols for sol in solutions]) - set(symbs)\n",
    "integration_constants"
   ]
  },
  {
   "cell_type": "code",
   "execution_count": null,
   "metadata": {
    "collapsed": true
   },
   "outputs": [],
   "source": [
    "initial_values = [sol.subs(t, 0) for sol in solutions]\n",
    "initial_values"
   ]
  },
  {
   "cell_type": "code",
   "execution_count": null,
   "metadata": {
    "collapsed": true
   },
   "outputs": [],
   "source": [
    "const_exprs = sym.solve(initial_values, integration_constants)\n",
    "const_exprs"
   ]
  },
  {
   "cell_type": "code",
   "execution_count": null,
   "metadata": {
    "collapsed": true
   },
   "outputs": [],
   "source": [
    "analytic = [sol.subs(const_exprs) for sol in solutions]\n",
    "analytic"
   ]
  },
  {
   "cell_type": "markdown",
   "metadata": {},
   "source": [
    "## Exercise: Create a function from a symbolic expression\n",
    "We want to plot the time evolution of x, y & z from the above analytic expression (called ``analytic`` above):"
   ]
  },
  {
   "cell_type": "code",
   "execution_count": null,
   "metadata": {
    "collapsed": true
   },
   "outputs": [],
   "source": [
    "from math import log10\n",
    "import numpy as np\n",
    "year_s = 365.25*24*3600\n",
    "tout = np.logspace(0, log10(3e6*year_s), 500)  # 1 s to 3 million years"
   ]
  },
  {
   "cell_type": "code",
   "execution_count": null,
   "metadata": {
    "collapsed": true
   },
   "outputs": [],
   "source": [
    "%load_ext scipy2017codegen.exercise"
   ]
  },
  {
   "cell_type": "markdown",
   "metadata": {},
   "source": [
    "*Use either the *``%exercise``* or *``%load``* magic to get the exercise / solution respecitvely:*\n",
    "\n",
    "Replace **???** so that `f(t)` evaluates $x(t),\\ y(t)\\ \\&\\ z(t)$. Hint: use the right hand side of the equations in ``analytic`` (use the attribute ``rhs`` of the items in ``anayltic``):"
   ]
  },
  {
   "cell_type": "code",
   "execution_count": null,
   "metadata": {
    "collapsed": true
   },
   "outputs": [],
   "source": [
    "# %exercise exercise_Tc99.py\n",
    "xyz_num = sym.lambdify([t, l1, l2, *inits], [eq.rhs for eq in analytic])\n",
    "yout = xyz_num(tout, 3.2e-5, 1.04e-13, 1, 0, 0)"
   ]
  },
  {
   "cell_type": "code",
   "execution_count": null,
   "metadata": {
    "collapsed": true
   },
   "outputs": [],
   "source": [
    "import matplotlib.pyplot as plt\n",
    "%matplotlib inline\n",
    "fig, ax = plt.subplots(1, 1, figsize=(14, 4))\n",
    "ax.loglog(tout.reshape((tout.size, 1)), np.array(yout).T)\n",
    "ax.legend(['$^{99m}Tc$', '$^{99}Tc$', '$^{99}Ru$'])\n",
    "ax.set_xlabel('Time / s')\n",
    "ax.set_ylabel('Concentration / a.u.')\n",
    "_ = ax.set_ylim([1e-11, 2])"
   ]
  }
 ],
 "metadata": {
  "anaconda-cloud": {},
  "kernelspec": {
   "display_name": "Python [default]",
   "language": "python",
   "name": "python3"
  },
  "language_info": {
   "codemirror_mode": {
    "name": "ipython",
    "version": 3
   },
   "file_extension": ".py",
   "mimetype": "text/x-python",
   "name": "python",
   "nbconvert_exporter": "python",
   "pygments_lexer": "ipython3",
   "version": "3.5.3"
  }
 },
 "nbformat": 4,
 "nbformat_minor": 2
}
