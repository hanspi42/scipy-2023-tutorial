{
 "cells": [
  {
   "cell_type": "markdown",
   "metadata": {},
   "source": [
    "In this notebook we will use the same Cython code as in the last notebook. However, this time we will use the `Vode` integrator from `ODEPACK` (available in SciPy in `scipy.integrate.ode`). The reason for this is that it will be a fairer comparison against our upcoming example using `CVode`."
   ]
  },
  {
   "cell_type": "code",
   "execution_count": null,
   "metadata": {},
   "outputs": [],
   "source": [
    "import json\n",
    "import numpy as np"
   ]
  },
  {
   "cell_type": "markdown",
   "metadata": {},
   "source": [
    "Subclassing `ODEsys` and providing a new method using `scipy.integrate.ode`:"
   ]
  },
  {
   "cell_type": "code",
   "execution_count": null,
   "metadata": {},
   "outputs": [],
   "source": [
    "# %load ../scipy2017codegen/odesys_vode.py\n",
    "import numpy as np\n",
    "from scipy.integrate import ode\n",
    "from scipy2017codegen.odesys import ODEsys\n",
    "\n",
    "class VODEsys(ODEsys):\n",
    "    default_integrator = 'vode'\n",
    "\n",
    "    def integrate_vode(self, tout, y0, params=(), method='bdf', rtol=1e-8, atol=1e-8, **kwargs):\n",
    "        def f(t, y, *args):\n",
    "            f.ncall +=1\n",
    "            return np.asarray(self.f_eval(y, t, *args))\n",
    "        f.ncall = 0\n",
    "        def j(t, y, *args):\n",
    "            j.ncall += 1\n",
    "            return np.asarray(self.j_eval(y, t, *args))\n",
    "        j.ncall = 0\n",
    "        r = ode(f, j)\n",
    "        r.set_integrator('vode', method=method, rtol=rtol, atol=atol, **kwargs)\n",
    "        if params:\n",
    "            r.set_f_params(params)\n",
    "            r.set_jac_params(params)\n",
    "        yout = np.zeros((len(tout), len(y0)))\n",
    "        yout[0, :] = y0\n",
    "        r.set_initial_value(yout[0, :], tout[0])\n",
    "        for idx in range(1, len(tout)):\n",
    "            r.integrate(tout[idx])\n",
    "            assert r.successful(), \"Integration failed\"\n",
    "            yout[idx, :] = r.y\n",
    "        return yout, {'num_rhs': f.ncall, 'num_dls_jac_evals': j.ncall}\n"
   ]
  },
  {
   "cell_type": "markdown",
   "metadata": {},
   "source": [
    "Creating a new mixin class:"
   ]
  },
  {
   "cell_type": "code",
   "execution_count": null,
   "metadata": {},
   "outputs": [],
   "source": [
    "from scipy2017codegen.odesys_cython import CythonODEsys\n",
    "\n",
    "class CythonVODEsys(VODEsys, CythonODEsys):\n",
    "    pass"
   ]
  },
  {
   "cell_type": "markdown",
   "metadata": {},
   "source": [
    "Same procedure as in the last notebook:"
   ]
  },
  {
   "cell_type": "code",
   "execution_count": null,
   "metadata": {},
   "outputs": [],
   "source": [
    "from scipy2017codegen.chem import mk_rsys"
   ]
  },
  {
   "cell_type": "code",
   "execution_count": null,
   "metadata": {},
   "outputs": [],
   "source": [
    "watrad_data = json.load(open('../scipy2017codegen/data/radiolysis_300_Gy_s.json'))\n",
    "watrad = mk_rsys(ODEsys, **watrad_data)\n",
    "tout = np.logspace(-6, 3, 200)  # close to one hour of operation\n",
    "c0 = {'H2O': 55.4e3, 'H+': 1e-4, 'OH-': 1e-4}\n",
    "y0 = [c0.get(symb.name, 0) for symb in watrad.y]"
   ]
  },
  {
   "cell_type": "code",
   "execution_count": null,
   "metadata": {},
   "outputs": [],
   "source": [
    "cython_sys = mk_rsys(CythonVODEsys, **watrad_data)"
   ]
  },
  {
   "cell_type": "code",
   "execution_count": null,
   "metadata": {},
   "outputs": [],
   "source": [
    "%timeit cython_sys.integrate(tout, y0)"
   ]
  },
  {
   "cell_type": "markdown",
   "metadata": {},
   "source": [
    "That is a considerably slower than `odeint`. It is clear that it is the python wrapper (in scipy) that is the bottleneck. Especially since using `Vode` and choosing `BDF` for this stiff problem will avoid the method swaps LSODA attempts."
   ]
  },
  {
   "cell_type": "code",
   "execution_count": null,
   "metadata": {},
   "outputs": [],
   "source": [
    "import matplotlib.pyplot as plt\n",
    "%matplotlib inline"
   ]
  },
  {
   "cell_type": "markdown",
   "metadata": {},
   "source": [
    "Just to see that everything looks alright:"
   ]
  },
  {
   "cell_type": "code",
   "execution_count": null,
   "metadata": {},
   "outputs": [],
   "source": [
    "fig, ax = plt.subplots(1, 1, figsize=(14, 6))\n",
    "cython_sys.plot_result(tout, *cython_sys.integrate_vode(tout, y0), ax=ax)\n",
    "ax.set_xscale('log')\n",
    "ax.set_yscale('log')"
   ]
  }
 ],
 "metadata": {
  "kernelspec": {
   "display_name": "Python 3",
   "language": "python",
   "name": "python3"
  },
  "language_info": {
   "codemirror_mode": {
    "name": "ipython",
    "version": 3
   },
   "file_extension": ".py",
   "mimetype": "text/x-python",
   "name": "python",
   "nbconvert_exporter": "python",
   "pygments_lexer": "ipython3",
   "version": "3.6.1"
  }
 },
 "nbformat": 4,
 "nbformat_minor": 2
}
